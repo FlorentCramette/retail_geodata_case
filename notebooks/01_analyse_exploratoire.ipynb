{
 "cells": [
  {
   "cell_type": "markdown",
   "id": "56f5400b",
   "metadata": {},
   "source": [
    "# 📊 Analyse Exploratoire - Performance Retail Géolocalisée\n",
    "\n",
    "## Objectifs\n",
    "- Analyser la performance des magasins (CA, clients, panier moyen)\n",
    "- Identifier les corrélations avec les variables géodémographiques\n",
    "- Visualiser la répartition géospatiale des performances\n",
    "- Détecter les facteurs clés de succès"
   ]
  },
  {
   "cell_type": "code",
   "execution_count": null,
   "id": "1512cff5",
   "metadata": {},
   "outputs": [],
   "source": [
    "# Import des librairies\n",
    "import pandas as pd\n",
    "import numpy as np\n",
    "import matplotlib.pyplot as plt\n",
    "import seaborn as sns\n",
    "import plotly.express as px\n",
    "import plotly.graph_objects as go\n",
    "from plotly.subplots import make_subplots\n",
    "import folium\n",
    "from folium import plugins\n",
    "import warnings\n",
    "warnings.filterwarnings('ignore')\n",
    "\n",
    "# Configuration\n",
    "plt.style.use('seaborn-v0_8')\n",
    "sns.set_palette(\"husl\")\n",
    "pd.set_option('display.max_columns', None)"
   ]
  },
  {
   "cell_type": "markdown",
   "id": "257d573f",
   "metadata": {},
   "source": [
    "## 1. 📥 Chargement et exploration des données"
   ]
  },
  {
   "cell_type": "code",
   "execution_count": null,
   "id": "57f87321",
   "metadata": {},
   "outputs": [],
   "source": [
    "# Chargement des données\n",
    "df_magasins = pd.read_csv('../data/magasins_performance.csv')\n",
    "df_concurrents = pd.read_csv('../data/sites_concurrents.csv')\n",
    "\n",
    "print(f\"📊 Dataset magasins: {df_magasins.shape[0]} lignes, {df_magasins.shape[1]} colonnes\")\n",
    "print(f\"🏪 Dataset concurrents: {df_concurrents.shape[0]} lignes, {df_concurrents.shape[1]} colonnes\")\n",
    "\n",
    "# Aperçu des données\n",
    "display(df_magasins.head())"
   ]
  },
  {
   "cell_type": "code",
   "execution_count": null,
   "id": "6d3fbbcf",
   "metadata": {},
   "outputs": [],
   "source": [
    "# Informations générales\n",
    "print(\"🔍 Informations générales:\")\n",
    "print(df_magasins.info())\n",
    "\n",
    "print(\"\\n📈 Statistiques descriptives:\")\n",
    "display(df_magasins.describe())"
   ]
  },
  {
   "cell_type": "markdown",
   "id": "1728ba32",
   "metadata": {},
   "source": [
    "## 2. 📊 Analyses statistiques des performances"
   ]
  },
  {
   "cell_type": "code",
   "execution_count": null,
   "id": "a9f55ba3",
   "metadata": {},
   "outputs": [],
   "source": [
    "# KPIs clés\n",
    "ca_total = df_magasins['ca_annuel'].sum()\n",
    "ca_moyen = df_magasins['ca_annuel'].mean()\n",
    "panier_moyen_reseau = df_magasins['panier_moyen'].mean()\n",
    "nb_clients_total = df_magasins['nb_clients_mois'].sum() * 12\n",
    "\n",
    "print(f\"💰 CA total réseau: {ca_total:,.0f}€\")\n",
    "print(f\"📍 CA moyen par magasin: {ca_moyen:,.0f}€\")\n",
    "print(f\"🛒 Panier moyen réseau: {panier_moyen_reseau:.2f}€\")\n",
    "print(f\"👥 Clients annuels estimés: {nb_clients_total:,.0f}\")"
   ]
  },
  {
   "cell_type": "code",
   "execution_count": null,
   "id": "a71a2fc8",
   "metadata": {},
   "outputs": [],
   "source": [
    "# Visualisation des distributions de performance\n",
    "fig, axes = plt.subplots(2, 2, figsize=(15, 10))\n",
    "\n",
    "# CA annuel\n",
    "axes[0,0].hist(df_magasins['ca_annuel']/1000, bins=15, alpha=0.7, color='skyblue')\n",
    "axes[0,0].set_title('Distribution du CA annuel')\n",
    "axes[0,0].set_xlabel('CA annuel (k€)')\n",
    "axes[0,0].set_ylabel('Nombre de magasins')\n",
    "\n",
    "# Panier moyen\n",
    "axes[0,1].hist(df_magasins['panier_moyen'], bins=15, alpha=0.7, color='lightgreen')\n",
    "axes[0,1].set_title('Distribution du panier moyen')\n",
    "axes[0,1].set_xlabel('Panier moyen (€)')\n",
    "axes[0,1].set_ylabel('Nombre de magasins')\n",
    "\n",
    "# Nombre de clients\n",
    "axes[1,0].hist(df_magasins['nb_clients_mois'], bins=15, alpha=0.7, color='coral')\n",
    "axes[1,0].set_title('Distribution du nombre de clients/mois')\n",
    "axes[1,0].set_xlabel('Clients par mois')\n",
    "axes[1,0].set_ylabel('Nombre de magasins')\n",
    "\n",
    "# Surface de vente\n",
    "axes[1,1].hist(df_magasins['surface_vente'], bins=15, alpha=0.7, color='gold')\n",
    "axes[1,1].set_title('Distribution de la surface de vente')\n",
    "axes[1,1].set_xlabel('Surface (m²)')\n",
    "axes[1,1].set_ylabel('Nombre de magasins')\n",
    "\n",
    "plt.tight_layout()\n",
    "plt.show()"
   ]
  },
  {
   "cell_type": "markdown",
   "id": "4d191e56",
   "metadata": {},
   "source": [
    "## 3. 🗺️ Analyse géospatiale"
   ]
  },
  {
   "cell_type": "code",
   "execution_count": null,
   "id": "8c1e803e",
   "metadata": {},
   "outputs": [],
   "source": [
    "# Carte interactive des magasins avec performance\n",
    "# Centre de la carte sur la France\n",
    "m = folium.Map(location=[46.6034, 1.8883], zoom_start=6)\n",
    "\n",
    "# Normalisation du CA pour la taille des marqueurs\n",
    "ca_min, ca_max = df_magasins['ca_annuel'].min(), df_magasins['ca_annuel'].max()\n",
    "\n",
    "# Couleurs par enseigne\n",
    "colors = {'SuperFrais': 'blue', 'MarchéPlus': 'green', 'BioNature': 'orange', \n",
    "         'CityMarket': 'red', 'FamilyShop': 'purple'}\n",
    "\n",
    "for idx, row in df_magasins.iterrows():\n",
    "    # Taille proportionnelle au CA\n",
    "    size = 5 + 15 * (row['ca_annuel'] - ca_min) / (ca_max - ca_min)\n",
    "    \n",
    "    popup_text = f\"\"\"\n",
    "    <b>{row['enseigne']} - {row['format']}</b><br>\n",
    "    📍 {row['ville']}<br>\n",
    "    💰 CA: {row['ca_annuel']:,.0f}€<br>\n",
    "    🛒 Panier: {row['panier_moyen']:.2f}€<br>\n",
    "    👥 Clients/mois: {row['nb_clients_mois']:,}<br>\n",
    "    🏪 Surface: {row['surface_vente']}m²\n",
    "    \"\"\"\n",
    "    \n",
    "    folium.CircleMarker(\n",
    "        location=[row['latitude'], row['longitude']],\n",
    "        radius=size,\n",
    "        popup=popup_text,\n",
    "        color=colors.get(row['enseigne'], 'gray'),\n",
    "        fill=True,\n",
    "        weight=2,\n",
    "        opacity=0.8\n",
    "    ).add_to(m)\n",
    "\n",
    "# Affichage de la carte\n",
    "m"
   ]
  },
  {
   "cell_type": "code",
   "execution_count": null,
   "id": "c0ed1b8f",
   "metadata": {},
   "outputs": [],
   "source": [
    "# Analyse par ville\n",
    "perf_ville = df_magasins.groupby('ville').agg({\n",
    "    'ca_annuel': ['sum', 'mean', 'count'],\n",
    "    'panier_moyen': 'mean',\n",
    "    'nb_clients_mois': 'sum'\n",
    "}).round(2)\n",
    "\n",
    "perf_ville.columns = ['CA_total', 'CA_moyen', 'Nb_magasins', 'Panier_moyen', 'Clients_total']\n",
    "perf_ville = perf_ville.sort_values('CA_total', ascending=False)\n",
    "\n",
    "print(\"🏙️ Performance par ville:\")\n",
    "display(perf_ville.head(10))"
   ]
  },
  {
   "cell_type": "markdown",
   "id": "dbcc6376",
   "metadata": {},
   "source": [
    "## 4. 🔍 Analyses de corrélations"
   ]
  },
  {
   "cell_type": "code",
   "execution_count": null,
   "id": "9cf39138",
   "metadata": {},
   "outputs": [],
   "source": [
    "# Variables numériques pour l'analyse de corrélation\n",
    "variables_numeriques = [\n",
    "    'ca_annuel', 'panier_moyen', 'nb_clients_mois', 'surface_vente',\n",
    "    'population_zone_1km', 'densite_hab_km2', 'revenu_median_zone',\n",
    "    'concurrents_500m', 'concurrents_1km', 'parking_places',\n",
    "    'distance_centre_ville', 'transport_score'\n",
    "]\n",
    "\n",
    "# Matrice de corrélation\n",
    "corr_matrix = df_magasins[variables_numeriques].corr()\n",
    "\n",
    "# Heatmap des corrélations\n",
    "plt.figure(figsize=(12, 10))\n",
    "sns.heatmap(corr_matrix, annot=True, cmap='RdBu_r', center=0, \n",
    "            square=True, fmt='.2f', cbar_kws={'shrink': 0.8})\n",
    "plt.title('Matrice de corrélation - Variables géodémographiques vs Performance')\n",
    "plt.tight_layout()\n",
    "plt.show()"
   ]
  },
  {
   "cell_type": "code",
   "execution_count": null,
   "id": "d34cf320",
   "metadata": {},
   "outputs": [],
   "source": [
    "# Corrélations avec le CA (tri décroissant)\n",
    "corr_ca = corr_matrix['ca_annuel'].drop('ca_annuel').sort_values(key=abs, ascending=False)\n",
    "\n",
    "print(\"🎯 Variables les plus corrélées au CA annuel:\")\n",
    "for var, corr in corr_ca.items():\n",
    "    direction = \"📈\" if corr > 0 else \"📉\"\n",
    "    print(f\"{direction} {var}: {corr:.3f}\")"
   ]
  },
  {
   "cell_type": "code",
   "execution_count": null,
   "id": "05984fc5",
   "metadata": {},
   "outputs": [],
   "source": [
    "# Scatter plots des variables les plus corrélées\n",
    "top_vars = corr_ca.head(4).index.tolist()\n",
    "\n",
    "fig, axes = plt.subplots(2, 2, figsize=(15, 10))\n",
    "axes = axes.ravel()\n",
    "\n",
    "for i, var in enumerate(top_vars):\n",
    "    axes[i].scatter(df_magasins[var], df_magasins['ca_annuel']/1000, alpha=0.6)\n",
    "    axes[i].set_xlabel(var)\n",
    "    axes[i].set_ylabel('CA annuel (k€)')\n",
    "    axes[i].set_title(f'CA vs {var}\\n(r={corr_ca[var]:.3f})')\n",
    "    \n",
    "    # Ligne de tendance\n",
    "    z = np.polyfit(df_magasins[var], df_magasins['ca_annuel'], 1)\n",
    "    p = np.poly1d(z)\n",
    "    axes[i].plot(df_magasins[var], p(df_magasins[var])/1000, \"r--\", alpha=0.8)\n",
    "\n",
    "plt.tight_layout()\n",
    "plt.show()"
   ]
  },
  {
   "cell_type": "markdown",
   "id": "3e51855e",
   "metadata": {},
   "source": [
    "## 5. 📊 Performance par enseigne et format"
   ]
  },
  {
   "cell_type": "code",
   "execution_count": null,
   "id": "c005a967",
   "metadata": {},
   "outputs": [],
   "source": [
    "# Performance par enseigne\n",
    "perf_enseigne = df_magasins.groupby('enseigne').agg({\n",
    "    'ca_annuel': ['mean', 'sum', 'count'],\n",
    "    'panier_moyen': 'mean',\n",
    "    'nb_clients_mois': 'mean'\n",
    "}).round(0)\n",
    "\n",
    "perf_enseigne.columns = ['CA_moyen', 'CA_total', 'Nb_magasins', 'Panier_moyen', 'Clients_mois']\n",
    "\n",
    "print(\"🏪 Performance par enseigne:\")\n",
    "display(perf_enseigne.sort_values('CA_moyen', ascending=False))"
   ]
  },
  {
   "cell_type": "code",
   "execution_count": null,
   "id": "07305580",
   "metadata": {},
   "outputs": [],
   "source": [
    "# Graphiques de performance par enseigne\n",
    "fig, axes = plt.subplots(1, 3, figsize=(18, 5))\n",
    "\n",
    "# CA moyen par enseigne\n",
    "perf_enseigne['CA_moyen'].plot(kind='bar', ax=axes[0], color='skyblue')\n",
    "axes[0].set_title('CA moyen par enseigne')\n",
    "axes[0].set_ylabel('CA annuel (€)')\n",
    "axes[0].tick_params(axis='x', rotation=45)\n",
    "\n",
    "# Panier moyen par enseigne\n",
    "perf_enseigne['Panier_moyen'].plot(kind='bar', ax=axes[1], color='lightgreen')\n",
    "axes[1].set_title('Panier moyen par enseigne')\n",
    "axes[1].set_ylabel('Panier moyen (€)')\n",
    "axes[1].tick_params(axis='x', rotation=45)\n",
    "\n",
    "# Nombre de clients par enseigne\n",
    "perf_enseigne['Clients_mois'].plot(kind='bar', ax=axes[2], color='coral')\n",
    "axes[2].set_title('Clients/mois par enseigne')\n",
    "axes[2].set_ylabel('Clients par mois')\n",
    "axes[2].tick_params(axis='x', rotation=45)\n",
    "\n",
    "plt.tight_layout()\n",
    "plt.show()"
   ]
  },
  {
   "cell_type": "markdown",
   "id": "375c6146",
   "metadata": {},
   "source": [
    "## 6. 🎯 Facteurs clés de succès"
   ]
  },
  {
   "cell_type": "code",
   "execution_count": null,
   "id": "1c294480",
   "metadata": {},
   "outputs": [],
   "source": [
    "# Segmentation des magasins par performance\n",
    "df_magasins['segment_ca'] = pd.cut(df_magasins['ca_annuel'], \n",
    "                                  bins=3, \n",
    "                                  labels=['Faible', 'Moyen', 'Fort'])\n",
    "\n",
    "# Analyse des segments\n",
    "analyse_segments = df_magasins.groupby('segment_ca').agg({\n",
    "    'ca_annuel': 'mean',\n",
    "    'population_zone_1km': 'mean',\n",
    "    'revenu_median_zone': 'mean',\n",
    "    'parking_places': 'mean',\n",
    "    'concurrents_500m': 'mean',\n",
    "    'transport_score': 'mean',\n",
    "    'surface_vente': 'mean'\n",
    "}).round(0)\n",
    "\n",
    "print(\"🎯 Profil des segments de performance:\")\n",
    "display(analyse_segments)"
   ]
  },
  {
   "cell_type": "code",
   "execution_count": null,
   "id": "8e313cd9",
   "metadata": {},
   "outputs": [],
   "source": [
    "# Recommandations basées sur l'analyse\n",
    "print(\"📋 SYNTHÈSE ET RECOMMANDATIONS\")\n",
    "print(\"=\"*50)\n",
    "\n",
    "# Top corrélations positives\n",
    "top_positive = corr_ca[corr_ca > 0].head(3)\n",
    "print(\"\\n✅ FACTEURS DE SUCCÈS:\")\n",
    "for var, corr in top_positive.items():\n",
    "    print(f\"   • {var}: +{corr:.3f}\")\n",
    "\n",
    "# Top corrélations négatives\n",
    "top_negative = corr_ca[corr_ca < 0].tail(3)\n",
    "print(\"\\n⚠️ FACTEURS DE RISQUE:\")\n",
    "for var, corr in top_negative.items():\n",
    "    print(f\"   • {var}: {corr:.3f}\")\n",
    "\n",
    "# Recommandations d'implantation\n",
    "print(\"\\n🎯 CRITÈRES D'IMPLANTATION OPTIMAUX:\")\n",
    "best_performers = df_magasins[df_magasins['segment_ca'] == 'Fort']\n",
    "print(f\"   • Population zone 1km: {best_performers['population_zone_1km'].mean():.0f} habitants\")\n",
    "print(f\"   • Revenu médian zone: {best_performers['revenu_median_zone'].mean():.0f}€\")\n",
    "print(f\"   • Places de parking: {best_performers['parking_places'].mean():.0f}\")\n",
    "print(f\"   • Score transport: {best_performers['transport_score'].mean():.1f}/10\")\n",
    "print(f\"   • Concurrents 500m max: {best_performers['concurrents_500m'].mean():.1f}\")"
   ]
  }
 ],
 "metadata": {
  "language_info": {
   "name": "python"
  }
 },
 "nbformat": 4,
 "nbformat_minor": 5
}
